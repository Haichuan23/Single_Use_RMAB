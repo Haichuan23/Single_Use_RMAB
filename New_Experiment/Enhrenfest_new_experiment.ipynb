{
 "cells": [
  {
   "cell_type": "code",
   "execution_count": 1,
   "metadata": {},
   "outputs": [],
   "source": [
    "import cvxpy as cp\n",
    "import numpy as np\n",
    "from Enhrenfest_methods import *\n",
    "np.random.seed(22)"
   ]
  },
  {
   "cell_type": "code",
   "execution_count": 2,
   "metadata": {},
   "outputs": [],
   "source": [
    "''' Now I want to create the following parameter for each type of agents\n",
    "\n",
    "    - potential_reward_lst: reward rate\n",
    "    - mu_lst: intensity under the active phase\n",
    "    - lambda_lst: intensity under the passive phase\n",
    "\n",
    "    - num_types: The number of types\n",
    "    - scale: Adjust the numerical scale of intensity\n",
    "'''\n",
    "\n",
    "def sample_mu_values(num_types, scale = 10):\n",
    "    # Sample mus\n",
    "    mus = np.random.uniform(0, 1, num_types) * scale\n",
    "    return list(mus)\n",
    "\n",
    "def sample_lambda_values(num_types, scale = 10):\n",
    "    # Sample mus\n",
    "    lambdas = np.random.uniform(0, 1, num_types) * scale\n",
    "    return list(lambdas)"
   ]
  },
  {
   "cell_type": "code",
   "execution_count": 3,
   "metadata": {},
   "outputs": [],
   "source": [
    "## This generates the normal MDP process\n",
    "def generate_transition_matrix_with_dummy_states(num_arms, num_states, num_dummy_states, mu_lst, lambda_lst, time_step):\n",
    "    # Initialize transition matrices\n",
    "    P = np.zeros((num_arms, num_states + num_dummy_states, 2, num_states + num_dummy_states))\n",
    "    K = num_states - 1\n",
    "\n",
    "    for n in range(num_arms):\n",
    "        for s in range(num_states):\n",
    "            if s == 0:\n",
    "                # Boundary condition for state 0 (active)\n",
    "                P[n, s, 1, s + num_states] = 1\n",
    "\n",
    "                P[n, s, 0, s + 1] = lambda_lst[n] * (K - s) * time_step\n",
    "                P[n, s, 0, s] = 1 - (lambda_lst[n] * (K - s) * time_step)\n",
    "            if s == num_states - 1:\n",
    "                # Boundary condition for state 9 (passive)\n",
    "                P[n, s, 0, s] = 1\n",
    "\n",
    "                P[n, s, 1, s - 1 + num_states] = mu_lst[n] * s * time_step\n",
    "                P[n, s, 1, s + num_states] = 1 - mu_lst[n] * s * time_step\n",
    "\n",
    "            else:\n",
    "                P[n, s, 0, s + 1] = lambda_lst[n] * (K - s) * time_step\n",
    "                P[n, s, 0, s] = 1 - lambda_lst[n] * (K - s) * time_step\n",
    "                P[n, s, 1, s - 1 + num_states] = mu_lst[n] * s * time_step\n",
    "                P[n, s, 1, s + num_states] = 1 - mu_lst[n] * s * time_step\n",
    "        # Transitions within dummy states (s in S_a)\n",
    "        for s_a in range(num_states, num_states + num_dummy_states):\n",
    "            normal_state_index = s_a - num_states\n",
    "            # Copy transitions from the corresponding normal state for action 0 within dummy states\n",
    "            P[n, s_a, 0, num_states:num_states + num_dummy_states] = P[n, normal_state_index, 0, 0:num_states]\n",
    "            P[n, s_a, 1, num_states:num_states + num_dummy_states] = P[n, normal_state_index, 0, 0:num_states]\n",
    "\n",
    "    return P"
   ]
  },
  {
   "cell_type": "code",
   "execution_count": 4,
   "metadata": {},
   "outputs": [],
   "source": [
    "def comparison(S, N, group_member_num, K, S_prime, A, T, mu_lst,lambda_lst,time_step,potential_reward_lst,num_simulations = 20000, type = 'General'):\n",
    "       # change here to generate different types of transition matrices\n",
    "    P = generate_transition_matrix_with_dummy_states(N, S, S, mu_lst, lambda_lst, time_step)\n",
    "    P_original = P[:, :S, :, :S]+P[:,:S,:,S:]\n",
    "\n",
    "    optimal_reward, fluid_reward, fluid_std = fluid_policy(N, T, S, S_prime, A, K, group_member_num, P, num_simulations, potential_reward_lst, time_step)\n",
    "    random_reward, random_std = random_policy(N, T, S, S_prime, A, K, group_member_num, P, num_simulations, potential_reward_lst, time_step)\n",
    "    finite_whittle_reward, finite_whittle_std =  finite_whittle_policy(N, T, S, S_prime, A, K, group_member_num, P, num_simulations, potential_reward_lst, time_step)\n",
    "    infinite_whittle_reward, infinite_whittle_std = infinite_whittle_policy(N, T, S, S_prime, A, K, group_member_num, P, num_simulations, potential_reward_lst, time_step)\n",
    "    original_whittle_reward, original_whittle_std = original_whittle_policy(N, T, S, A, K, group_member_num, P_original, num_simulations, potential_reward_lst, time_step)\n",
    "\n",
    "\n",
    "    experiment_synthetic_result = {\n",
    "        \"Optimal\": (optimal_reward, None),\n",
    "        \"fluid\": (fluid_reward, fluid_std),\n",
    "        \"random\": (random_reward, random_std),\n",
    "        \"finite whittle\": (finite_whittle_reward, finite_whittle_std),\n",
    "        \"inifinite whittle\": (infinite_whittle_reward, infinite_whittle_std),\n",
    "        \"original whittle\": (original_whittle_reward, original_whittle_std)\n",
    "    }\n",
    "    plot_methods_with_confidence(experiment_synthetic_result, N, T, K, group_member_num, num_simulations, type)"
   ]
  },
  {
   "cell_type": "code",
   "execution_count": 5,
   "metadata": {},
   "outputs": [
    {
     "name": "stderr",
     "output_type": "stream",
     "text": [
      "/Library/Frameworks/Python.framework/Versions/3.12/lib/python3.12/site-packages/cvxpy/problems/problem.py:158: UserWarning: Objective contains too many subexpressions. Consider vectorizing your CVXPY code to speed up compilation.\n",
      "  warnings.warn(\"Objective contains too many subexpressions. \"\n"
     ]
    },
    {
     "name": "stdout",
     "output_type": "stream",
     "text": [
      "Solver status: optimal\n",
      "Optimal value: 7.217832258648182\n",
      "Average total reward over 100 simulations: 20.533731565208, stdev is 2.282166717147908\n",
      "Number of pulls in dummy states (LP-based policy): 0\n",
      "Average total achieved value over 100 simulations (Random policy): 10.486995112733087, stdev is 0.8871427314608632\n",
      "Whittle Indices (including dummy states):\n",
      "Average total achieved value over 100 simulations (General Finite Whittle index policy): 21.163889096332195, stdev is 1.8259211680059246\n",
      "Whittle Indices (including dummy states):\n"
     ]
    },
    {
     "ename": "NameError",
     "evalue": "name 'T' is not defined",
     "output_type": "error",
     "traceback": [
      "\u001b[0;31m---------------------------------------------------------------------------\u001b[0m",
      "\u001b[0;31mNameError\u001b[0m                                 Traceback (most recent call last)",
      "Cell \u001b[0;32mIn[5], line 13\u001b[0m\n\u001b[1;32m     11\u001b[0m lambda_lst \u001b[38;5;241m=\u001b[39m sample_lambda_values(N)\n\u001b[1;32m     12\u001b[0m potential_reward_lst \u001b[38;5;241m=\u001b[39m np\u001b[38;5;241m.\u001b[39mrandom\u001b[38;5;241m.\u001b[39muniform(\u001b[38;5;241m1\u001b[39m, \u001b[38;5;241m10\u001b[39m, N)\n\u001b[0;32m---> 13\u001b[0m \u001b[43mcomparison\u001b[49m\u001b[43m(\u001b[49m\u001b[43mS\u001b[49m\u001b[43m,\u001b[49m\u001b[43m \u001b[49m\u001b[43mN\u001b[49m\u001b[43m,\u001b[49m\u001b[43m \u001b[49m\u001b[43mgroup_member_num\u001b[49m\u001b[43m,\u001b[49m\u001b[43m \u001b[49m\u001b[43mK\u001b[49m\u001b[43m,\u001b[49m\u001b[43m \u001b[49m\u001b[43mS_prime\u001b[49m\u001b[43m,\u001b[49m\u001b[43m \u001b[49m\u001b[43mA\u001b[49m\u001b[43m,\u001b[49m\u001b[43m \u001b[49m\u001b[43mT\u001b[49m\u001b[43m,\u001b[49m\u001b[43m \u001b[49m\u001b[43mmu_lst\u001b[49m\u001b[43m,\u001b[49m\u001b[43mlambda_lst\u001b[49m\u001b[43m,\u001b[49m\u001b[43mtime_step\u001b[49m\u001b[43m,\u001b[49m\u001b[43mpotential_reward_lst\u001b[49m\u001b[43m,\u001b[49m\u001b[43mnum_simulations\u001b[49m\u001b[43m,\u001b[49m\u001b[43m \u001b[49m\u001b[38;5;124;43m'\u001b[39;49m\u001b[38;5;124;43mEnhrenfest\u001b[39;49m\u001b[38;5;124;43m'\u001b[39;49m\u001b[43m)\u001b[49m\n",
      "Cell \u001b[0;32mIn[4], line 9\u001b[0m, in \u001b[0;36mcomparison\u001b[0;34m(S, N, group_member_num, K, S_prime, A, T, mu_lst, lambda_lst, time_step, potential_reward_lst, num_simulations, type)\u001b[0m\n\u001b[1;32m      7\u001b[0m random_reward, random_std \u001b[38;5;241m=\u001b[39m random_policy(N, T, S, S_prime, A, K, group_member_num, P, num_simulations, potential_reward_lst, time_step)\n\u001b[1;32m      8\u001b[0m finite_whittle_reward, finite_whittle_std \u001b[38;5;241m=\u001b[39m  finite_whittle_policy(N, T, S, S_prime, A, K, group_member_num, P, num_simulations, potential_reward_lst, time_step)\n\u001b[0;32m----> 9\u001b[0m infinite_whittle_reward, infinite_whittle_std \u001b[38;5;241m=\u001b[39m \u001b[43minfinite_whittle_policy\u001b[49m\u001b[43m(\u001b[49m\u001b[43mN\u001b[49m\u001b[43m,\u001b[49m\u001b[43m \u001b[49m\u001b[43mS\u001b[49m\u001b[43m,\u001b[49m\u001b[43m \u001b[49m\u001b[43mS_prime\u001b[49m\u001b[43m,\u001b[49m\u001b[43m \u001b[49m\u001b[43mA\u001b[49m\u001b[43m,\u001b[49m\u001b[43m \u001b[49m\u001b[43mK\u001b[49m\u001b[43m,\u001b[49m\u001b[43m \u001b[49m\u001b[43mgroup_member_num\u001b[49m\u001b[43m,\u001b[49m\u001b[43m \u001b[49m\u001b[43mP\u001b[49m\u001b[43m,\u001b[49m\u001b[43m \u001b[49m\u001b[43mnum_simulations\u001b[49m\u001b[43m,\u001b[49m\u001b[43m \u001b[49m\u001b[43mpotential_reward_lst\u001b[49m\u001b[43m,\u001b[49m\u001b[43m \u001b[49m\u001b[43mtime_step\u001b[49m\u001b[43m)\u001b[49m\n\u001b[1;32m     10\u001b[0m original_whittle_reward, original_whittle_std \u001b[38;5;241m=\u001b[39m original_whittle_policy(N, T, S, A, K, group_member_num, P_original, num_simulations, potential_reward_lst, time_step)\n\u001b[1;32m     13\u001b[0m experiment_synthetic_result \u001b[38;5;241m=\u001b[39m {\n\u001b[1;32m     14\u001b[0m     \u001b[38;5;124m\"\u001b[39m\u001b[38;5;124mOptimal\u001b[39m\u001b[38;5;124m\"\u001b[39m: (optimal_reward, \u001b[38;5;28;01mNone\u001b[39;00m),\n\u001b[1;32m     15\u001b[0m     \u001b[38;5;124m\"\u001b[39m\u001b[38;5;124mfluid\u001b[39m\u001b[38;5;124m\"\u001b[39m: (fluid_reward, fluid_std),\n\u001b[0;32m   (...)\u001b[0m\n\u001b[1;32m     19\u001b[0m     \u001b[38;5;124m\"\u001b[39m\u001b[38;5;124moriginal whittle\u001b[39m\u001b[38;5;124m\"\u001b[39m: (original_whittle_reward, original_whittle_std)\n\u001b[1;32m     20\u001b[0m }\n",
      "File \u001b[0;32m~/Desktop/SURMABs/Single_Use_RMAB/New_Experiment/Enhrenfest_methods.py:624\u001b[0m, in \u001b[0;36minfinite_whittle_policy\u001b[0;34m(N, S, S_prime, A, K, group_member_num, P, num_simulations, potential_reward_lst, time_step)\u001b[0m\n\u001b[1;32m    621\u001b[0m \u001b[38;5;28;01mfor\u001b[39;00m \u001b[38;5;28mtype\u001b[39m \u001b[38;5;129;01min\u001b[39;00m \u001b[38;5;28mrange\u001b[39m(N):\n\u001b[1;32m    622\u001b[0m     arm_states[\u001b[38;5;28mtype\u001b[39m] \u001b[38;5;241m=\u001b[39m np\u001b[38;5;241m.\u001b[39mrandom\u001b[38;5;241m.\u001b[39mchoice(\u001b[38;5;28mrange\u001b[39m(S), group_member_num, p\u001b[38;5;241m=\u001b[39m[\u001b[38;5;241m1\u001b[39m \u001b[38;5;241m/\u001b[39m S] \u001b[38;5;241m*\u001b[39m S)\n\u001b[0;32m--> 624\u001b[0m \u001b[38;5;28;01mfor\u001b[39;00m t \u001b[38;5;129;01min\u001b[39;00m \u001b[38;5;28mrange\u001b[39m(\u001b[43mT\u001b[49m):\n\u001b[1;32m    625\u001b[0m     \u001b[38;5;66;03m# Get the current Whittle index values for each arm at the current states\u001b[39;00m\n\u001b[1;32m    626\u001b[0m     current_indices \u001b[38;5;241m=\u001b[39m []\n\u001b[1;32m    627\u001b[0m     \u001b[38;5;28;01mfor\u001b[39;00m \u001b[38;5;28mtype\u001b[39m \u001b[38;5;129;01min\u001b[39;00m \u001b[38;5;28mrange\u001b[39m(N):\n",
      "\u001b[0;31mNameError\u001b[0m: name 'T' is not defined"
     ]
    }
   ],
   "source": [
    "S = 10\n",
    "N = 10\n",
    "group_member_num = 3\n",
    "K = 3\n",
    "S_prime = S * 2\n",
    "A = 2\n",
    "T = 10\n",
    "num_simulations = 100\n",
    "time_step = 0.01\n",
    "mu_lst = sample_mu_values(N)\n",
    "lambda_lst = sample_lambda_values(N)\n",
    "potential_reward_lst = np.random.uniform(1, 10, N)\n",
    "comparison(S, N, group_member_num, K, S_prime, A, T, mu_lst,lambda_lst,time_step,potential_reward_lst,num_simulations, 'Enhrenfest')"
   ]
  }
 ],
 "metadata": {
  "kernelspec": {
   "display_name": "base",
   "language": "python",
   "name": "python3"
  },
  "language_info": {
   "codemirror_mode": {
    "name": "ipython",
    "version": 3
   },
   "file_extension": ".py",
   "mimetype": "text/x-python",
   "name": "python",
   "nbconvert_exporter": "python",
   "pygments_lexer": "ipython3",
   "version": "3.12.6"
  }
 },
 "nbformat": 4,
 "nbformat_minor": 2
}
