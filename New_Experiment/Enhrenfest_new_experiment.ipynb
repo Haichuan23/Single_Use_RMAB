{
 "cells": [
  {
   "cell_type": "code",
   "execution_count": 1,
   "metadata": {},
   "outputs": [],
   "source": [
    "import cvxpy as cp\n",
    "import numpy as np\n",
    "from Enhrenfest_methods import *\n",
    "np.random.seed(22)"
   ]
  },
  {
   "cell_type": "code",
   "execution_count": 2,
   "metadata": {},
   "outputs": [],
   "source": [
    "''' Now I want to create the following parameter for each type of agents\n",
    "\n",
    "    - potential_reward_lst: reward rate\n",
    "    - mu_lst: intensity under the active phase\n",
    "    - lambda_lst: intensity under the passive phase\n",
    "\n",
    "    - num_types: The number of types\n",
    "    - scale: Adjust the numerical scale of intensity\n",
    "'''\n",
    "\n",
    "def sample_mu_values(num_types, scale = 10):\n",
    "    # Sample mus\n",
    "    mus = np.random.uniform(0, 1, num_types) * scale\n",
    "    return list(mus)\n",
    "\n",
    "def sample_lambda_values(num_types, scale = 10):\n",
    "    # Sample mus\n",
    "    lambdas = np.random.uniform(0, 1, num_types) * scale\n",
    "    return list(lambdas)"
   ]
  },
  {
   "cell_type": "code",
   "execution_count": 3,
   "metadata": {},
   "outputs": [],
   "source": [
    "## This generates the normal MDP process\n",
    "def generate_transition_matrix_with_dummy_states(num_arms, num_states, num_dummy_states, mu_lst, lambda_lst, time_step):\n",
    "    # Initialize transition matrices\n",
    "    P = np.zeros((num_arms, num_states + num_dummy_states, 2, num_states + num_dummy_states))\n",
    "    K = num_states - 1\n",
    "\n",
    "    for n in range(num_arms):\n",
    "        for s in range(num_states):\n",
    "            if s == 0:\n",
    "                # Boundary condition for state 0 (active)\n",
    "                P[n, s, 1, s + num_states] = 1\n",
    "\n",
    "                P[n, s, 0, s + 1] = lambda_lst[n] * (K - s) * time_step\n",
    "                P[n, s, 0, s] = 1 - (lambda_lst[n] * (K - s) * time_step)\n",
    "            if s == num_states - 1:\n",
    "                # Boundary condition for state 9 (passive)\n",
    "                P[n, s, 0, s] = 1\n",
    "\n",
    "                P[n, s, 1, s - 1 + num_states] = mu_lst[n] * s * time_step\n",
    "                P[n, s, 1, s + num_states] = 1 - mu_lst[n] * s * time_step\n",
    "\n",
    "            else:\n",
    "                P[n, s, 0, s + 1] = lambda_lst[n] * (K - s) * time_step\n",
    "                P[n, s, 0, s] = 1 - lambda_lst[n] * (K - s) * time_step\n",
    "                P[n, s, 1, s - 1 + num_states] = mu_lst[n] * s * time_step\n",
    "                P[n, s, 1, s + num_states] = 1 - mu_lst[n] * s * time_step\n",
    "        # Transitions within dummy states (s in S_a)\n",
    "        for s_a in range(num_states, num_states + num_dummy_states):\n",
    "            normal_state_index = s_a - num_states\n",
    "            # Copy transitions from the corresponding normal state for action 0 within dummy states\n",
    "            P[n, s_a, 0, num_states:num_states + num_dummy_states] = P[n, normal_state_index, 0, 0:num_states]\n",
    "            P[n, s_a, 1, num_states:num_states + num_dummy_states] = P[n, normal_state_index, 0, 0:num_states]\n",
    "\n",
    "    return P"
   ]
  },
  {
   "cell_type": "code",
   "execution_count": 4,
   "metadata": {},
   "outputs": [],
   "source": [
    "S = 10\n",
    "N = 10\n",
    "group_member_num = 3\n",
    "K = 3\n",
    "S_prime = S * 2\n",
    "A = 2\n",
    "T = 10\n",
    "num_simulations = 100\n",
    "time_step = 0.01\n",
    "mu_lst = sample_mu_values(N)\n",
    "lambda_lst = sample_lambda_values(N)\n",
    "potential_reward_lst = np.random.uniform(1, 10, N)"
   ]
  },
  {
   "cell_type": "code",
   "execution_count": 5,
   "metadata": {},
   "outputs": [],
   "source": [
    "# change here to generate different types of transition matrices\n",
    "P = generate_transition_matrix_with_dummy_states(N, S, S, mu_lst, lambda_lst, time_step)"
   ]
  },
  {
   "cell_type": "code",
   "execution_count": 6,
   "metadata": {},
   "outputs": [
    {
     "name": "stderr",
     "output_type": "stream",
     "text": [
      "/opt/anaconda3/lib/python3.12/site-packages/cvxpy/problems/problem.py:158: UserWarning: Objective contains too many subexpressions. Consider vectorizing your CVXPY code to speed up compilation.\n",
      "  warnings.warn(\"Objective contains too many subexpressions. \"\n"
     ]
    },
    {
     "name": "stdout",
     "output_type": "stream",
     "text": [
      "Solver status: optimal\n",
      "Optimal value: 7.217832258648182\n",
      "Average total reward over 100 simulations: 20.533731565208, stdev is 2.282166717147908\n",
      "Number of pulls in dummy states (LP-based policy): 0\n"
     ]
    }
   ],
   "source": [
    "optimal_reward, fluid_reward, fluid_std = fluid_policy(N, T, S, S_prime, A, K, group_member_num, P, \\\n",
    "                 num_simulations, potential_reward_lst, time_step)"
   ]
  },
  {
   "cell_type": "code",
   "execution_count": 6,
   "metadata": {},
   "outputs": [
    {
     "name": "stdout",
     "output_type": "stream",
     "text": [
      "Average total achieved value over 100 simulations (Random policy): 104.34206378140925, stdev is 8.06050257135824\n"
     ]
    }
   ],
   "source": [
    "random_reward, random_std = random_policy(N, T, S, S_prime, A, K, group_member_num, P, \\\n",
    "                 num_simulations, potential_reward_lst, time_step)"
   ]
  }
 ],
 "metadata": {
  "kernelspec": {
   "display_name": "base",
   "language": "python",
   "name": "python3"
  },
  "language_info": {
   "codemirror_mode": {
    "name": "ipython",
    "version": 3
   },
   "file_extension": ".py",
   "mimetype": "text/x-python",
   "name": "python",
   "nbconvert_exporter": "python",
   "pygments_lexer": "ipython3",
   "version": "3.12.2"
  }
 },
 "nbformat": 4,
 "nbformat_minor": 2
}
