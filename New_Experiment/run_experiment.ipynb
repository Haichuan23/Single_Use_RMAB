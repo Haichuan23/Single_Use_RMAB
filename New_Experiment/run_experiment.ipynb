{
 "cells": [
  {
   "cell_type": "code",
   "execution_count": 1,
   "metadata": {},
   "outputs": [],
   "source": [
    "import numpy as np \n",
    "from methods import *"
   ]
  },
  {
   "cell_type": "code",
   "execution_count": 2,
   "metadata": {},
   "outputs": [],
   "source": [
    "import numpy as np \n",
    "from methods import *\n",
    "# Generate transition matrices\n",
    "\n",
    "def generate_transition_matrix_with_dummy_states(num_arms, num_states, num_dummy_states):\n",
    "    # Initialize transition matrices\n",
    "    P = np.zeros((num_arms, num_states + num_dummy_states, 2, num_states + num_dummy_states))\n",
    "\n",
    "    for n in range(num_arms):\n",
    "        # Transitions within non-dummy states (s in S)\n",
    "        for s in range(num_states):\n",
    "            if s == 0:\n",
    "                # Boundary condition for state 0:\n",
    "                P[n, s, 1, s + num_dummy_states] = np.random.rand()  # Stay in state 0\n",
    "                P[n, s, 1, s + num_dummy_states + 1] = 1 - P[n, s, 1, s + num_dummy_states]  # Move to state 1\n",
    "            elif s == num_states - 1:\n",
    "                # Boundary condition for state 9 (last state):\n",
    "                P[n, s, 1, s + num_dummy_states - 1] = np.random.rand()  # Move to state 8\n",
    "                P[n, s, 1, s + num_dummy_states] = 1 - P[n, s, 1, s + num_dummy_states - 1]  # Stay in state 9\n",
    "            else:\n",
    "                # General case for non-boundary states\n",
    "                P[n, s, 1, s + num_dummy_states - 1] = np.random.rand()  # Move to s-1\n",
    "                P[n, s, 1, s + num_dummy_states + 1] = 1 - P[n, s, 1, s + num_dummy_states - 1]  # Move to s+1\n",
    "\n",
    "            # Action 0: No pull, move to s+1, unless it's the last state\n",
    "            if s < num_states - 1:\n",
    "                P[n, s, 0, s + 1] = 1.0  # Move to s+1 with probability 1\n",
    "            else:\n",
    "                P[n, s, 0, s] = 1.0  # Stay in state 9 if it's the last state\n",
    "\n",
    "        # Transitions within dummy states (s in S_a)\n",
    "        for s_a in range(num_states, num_states + num_dummy_states):\n",
    "            normal_state_index = s_a - num_states\n",
    "            # Copy transitions from the corresponding normal state for action 0 within dummy states\n",
    "            P[n, s_a, 0, num_states:num_states + num_dummy_states] = P[n, normal_state_index, 0, 0:num_states]\n",
    "            P[n, s_a, 1, num_states:num_states + num_dummy_states] = P[n, normal_state_index, 0, 0:num_states]\n",
    "\n",
    "    return P"
   ]
  },
  {
   "cell_type": "code",
   "execution_count": 3,
   "metadata": {},
   "outputs": [],
   "source": [
    "def generate_general_transition_matrix_with_dummy_states(num_arms, num_states, num_dummy_states):\n",
    "    # Initialize transition matrices\n",
    "    P = np.zeros((num_arms, num_states + num_dummy_states, 2, num_states + num_dummy_states))\n",
    "\n",
    "    for n in range(num_arms):\n",
    "        # Transitions within non-dummy states (s in S)\n",
    "        for s in range(num_states):\n",
    "            # Action 0: Transition within S\n",
    "            P[n, s, 0, :num_states] = np.random.dirichlet(np.ones(num_states))\n",
    "\n",
    "            # Action 1: Transition to a dummy state\n",
    "            P[n, s, 1, num_states:] = np.random.dirichlet(np.ones(num_dummy_states))\n",
    "\n",
    "        # Transitions within dummy states (s in S_a)\n",
    "        for s_a in range(num_states, num_states + num_dummy_states):\n",
    "            # Copy transitions from the corresponding normal state for action 0\n",
    "            normal_state_index = s_a - num_states\n",
    "            P[n, s_a, 0, num_states:num_states+num_dummy_states] = P[n, normal_state_index, 0, 0:num_states]\n",
    "            P[n, s_a, 1, num_states:num_states+num_dummy_states] = P[n, normal_state_index, 0, 0:num_states]  # Same for action 1\n",
    "\n",
    "    return P"
   ]
  },
  {
   "cell_type": "code",
   "execution_count": 10,
   "metadata": {},
   "outputs": [],
   "source": [
    "def comparison(S, N, group_member_num, K, S_prime, A, T, num_simulations = 20000, type = 'General'):\n",
    "    # Define the reward function, from state 0 (reward 10) to state 9 (reward 1)\n",
    "    r = np.array(list(range(S, 0, -1)) + list(range(S, 0, -1)))  # Non-dummy and dummy states have the same rewards\n",
    "    # change here to generate different types of transition matrices\n",
    "    P = generate_transition_matrix_with_dummy_states(N, S, S)\n",
    "    P_original = P[:, :S, :, :S]+P[:,:S,:,S:]\n",
    "\n",
    "    optimal_reward, fluid_reward, fluid_std = fluid_policy(N, T, S, S_prime, A, K, group_member_num, P, r, num_simulations)\n",
    "    random_reward, random_std = random_policy(N, T, S, S_prime, A, K, group_member_num, P, r, num_simulations)\n",
    "    no_pull_reward, no_pull_std =  no_pull_policy(N, T, S, S_prime, A, K, group_member_num, P, r, num_simulations)\n",
    "    finite_whittle_reward, finite_whittle_std =  finite_whittle_policy(N, T, S, S_prime, A, K, group_member_num, P, r, num_simulations)\n",
    "    infinite_whittle_reward, infinite_whittle_std = infinite_whittle_policy(N, T, S, S_prime, A, K, group_member_num, P, r, num_simulations)\n",
    "    original_whittle_reward, original_whittle_std = original_whittle_policy(N, T, S, A, K, group_member_num, P_original, r, num_simulations)\n",
    "\n",
    "\n",
    "    experiment_synthetic_result = {\n",
    "        \"Optimal\": (optimal_reward, None),\n",
    "        \"fluid\": (fluid_reward, fluid_std),\n",
    "        \"random\": (random_reward, random_std),\n",
    "        \"no-pull\": (no_pull_reward, no_pull_std),\n",
    "        \"finite whittle\": (finite_whittle_reward, finite_whittle_std),\n",
    "        \"inifinite whittle\": (infinite_whittle_reward, infinite_whittle_std),\n",
    "        \"original whittle\": (original_whittle_reward, original_whittle_std)\n",
    "    }\n",
    "    plot_methods_with_confidence(experiment_synthetic_result, N, T, K, group_member_num, num_simulations, type)"
   ]
  },
  {
   "cell_type": "code",
   "execution_count": 4,
   "metadata": {},
   "outputs": [],
   "source": [
    "np.random.seed(22)"
   ]
  },
  {
   "cell_type": "code",
   "execution_count": 11,
   "metadata": {},
   "outputs": [
    {
     "name": "stdout",
     "output_type": "stream",
     "text": [
      "Solver status: optimal\n",
      "Optimal value: 311.4346684745032\n",
      "Average total reward over 100 simulations: 908.88, stdev is 88.34657190676256\n",
      "Number of pulls in dummy states (LP-based policy): 349\n",
      "Average total achieved value over 100 simulations (Random policy): 846.03, stdev is 87.0740373463754\n",
      "Average total achieved value over 100 simulations (No-Pull policy): 797.1, stdev is 83.35702693470982\n",
      "Whittle Indices (including dummy states):\n",
      "Average total achieved value over 100 simulations (General Finite Whittle index policy): 931.22, stdev is 98.56286308644844\n",
      "Whittle Indices (including dummy states):\n",
      "Average total achieved value over 100 simulations (General Infinite Whittle index policy): 927.46, stdev is 96.817376769072\n",
      "Original Whittle Indices (including dummy states):\n",
      "Average total achieved value over 100 simulations (General Infinite Whittle index policy): 923.4, stdev is 86.78418605653307\n"
     ]
    },
    {
     "data": {
      "image/png": "[encoded data removed]",
      "text/plain": [
       "<Figure size 1000x600 with 1 Axes>"
      ]
     },
     "metadata": {},
     "output_type": "display_data"
    }
   ],
   "source": [
    "S = 10\n",
    "N = 10\n",
    "group_member_num = 3\n",
    "K = 3\n",
    "S_prime = S * 2\n",
    "A = 2\n",
    "T = 10\n",
    "num_simulations = 100\n",
    "comparison(S, N, group_member_num, K, S_prime, A, T, num_simulations, 'General')"
   ]
  },
  {
   "cell_type": "code",
   "execution_count": 33,
   "metadata": {},
   "outputs": [],
   "source": [
    "S = 10\n",
    "N = 10\n",
    "group_member_num = 3\n",
    "K = 3\n",
    "S_prime = S * 2\n",
    "A = 2\n",
    "T = 10\n",
    "num_simulations = 100"
   ]
  },
  {
   "cell_type": "code",
   "execution_count": 6,
   "metadata": {},
   "outputs": [],
   "source": [
    "r = np.array(list(range(S, 0, -1)) + list(range(S, 0, -1)))  # Non-dummy and dummy states have the same rewards\n",
    "# change here to generate different types of transition matrices\n",
    "P = generate_transition_matrix_with_dummy_states(N, S, S)"
   ]
  },
  {
   "cell_type": "code",
   "execution_count": 7,
   "metadata": {},
   "outputs": [
    {
     "name": "stdout",
     "output_type": "stream",
     "text": [
      "[10  9  8  7  6  5  4  3  2  1 10  9  8  7  6  5  4  3  2  1]\n"
     ]
    }
   ],
   "source": [
    "print(r)"
   ]
  },
  {
   "cell_type": "code",
   "execution_count": 8,
   "metadata": {},
   "outputs": [
    {
     "name": "stderr",
     "output_type": "stream",
     "text": [
      "/opt/anaconda3/lib/python3.12/site-packages/cvxpy/problems/problem.py:158: UserWarning: Objective contains too many subexpressions. Consider vectorizing your CVXPY code to speed up compilation.\n",
      "  warnings.warn(\"Objective contains too many subexpressions. \"\n"
     ]
    },
    {
     "name": "stdout",
     "output_type": "stream",
     "text": [
      "Solver status: optimal\n",
      "Optimal value: 313.8173477333495\n",
      "Average total reward over 100 simulations: 933.69, stdev is 99.06081134048087\n",
      "Number of pulls in dummy states (LP-based policy): 339\n"
     ]
    }
   ],
   "source": [
    "optimal_reward, fluid_reward, fluid_std = fluid_policy(N, T, S, S_prime, A, K, group_member_num, P, r, num_simulations)"
   ]
  },
  {
   "cell_type": "code",
   "execution_count": 9,
   "metadata": {},
   "outputs": [
    {
     "data": {
      "text/plain": [
       "939"
      ]
     },
     "execution_count": 9,
     "metadata": {},
     "output_type": "execute_result"
    }
   ],
   "source": [
    "313 * 3"
   ]
  }
 ],
 "metadata": {
  "kernelspec": {
   "display_name": "base",
   "language": "python",
   "name": "python3"
  },
  "language_info": {
   "codemirror_mode": {
    "name": "ipython",
    "version": 3
   },
   "file_extension": ".py",
   "mimetype": "text/x-python",
   "name": "python",
   "nbconvert_exporter": "python",
   "pygments_lexer": "ipython3",
   "version": "3.12.2"
  }
 },
 "nbformat": 4,
 "nbformat_minor": 2
}
