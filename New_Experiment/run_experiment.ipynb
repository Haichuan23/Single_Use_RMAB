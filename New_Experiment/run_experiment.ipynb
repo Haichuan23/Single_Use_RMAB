{
 "cells": [
  {
   "cell_type": "code",
   "execution_count": 32,
   "metadata": {},
   "outputs": [],
   "source": [
    "import numpy as np \n",
    "from newmethods import *"
   ]
  },
  {
   "cell_type": "code",
   "execution_count": 19,
   "metadata": {},
   "outputs": [],
   "source": [
    "np.random.seed(49)"
   ]
  },
  {
   "cell_type": "code",
   "execution_count": 20,
   "metadata": {},
   "outputs": [],
   "source": [
    "# Generate transition matrices\n",
    "\n",
    "def generate_poisson_transition_matrix_with_dummy_states(num_arms, num_states, num_dummy_states):\n",
    "    # Initialize transition matrices\n",
    "    P = np.zeros((num_arms, num_states + num_dummy_states, 2, num_states + num_dummy_states))\n",
    "\n",
    "    for n in range(num_arms):\n",
    "        # Transitions within non-dummy states (s in S)\n",
    "        for s in range(num_states):\n",
    "            if s == 0:\n",
    "                # Boundary condition for state 0:\n",
    "                P[n, s, 1, s + num_dummy_states] = np.random.rand()  # Stay in state 0\n",
    "                P[n, s, 1, s + num_dummy_states + 1] = 1 - P[n, s, 1, s + num_dummy_states]  # Move to state 1\n",
    "            elif s == num_states - 1:\n",
    "                # Boundary condition for state 9 (last state):\n",
    "                P[n, s, 1, s + num_dummy_states - 1] = np.random.rand()  # Move to state 8\n",
    "                P[n, s, 1, s + num_dummy_states] = 1 - P[n, s, 1, s + num_dummy_states - 1]  # Stay in state 9\n",
    "            else:\n",
    "                # General case for non-boundary states\n",
    "                P[n, s, 1, s + num_dummy_states - 1] = np.random.rand()  # Move to s-1\n",
    "                P[n, s, 1, s + num_dummy_states + 1] = 1 - P[n, s, 1, s + num_dummy_states - 1]  # Move to s+1\n",
    "\n",
    "            # Action 0: No pull, move to s+1, unless it's the last state\n",
    "            if s < num_states - 1:\n",
    "                P[n, s, 0, s + 1] = 1.0  # Move to s+1 with probability 1\n",
    "            else:\n",
    "                P[n, s, 0, s] = 1.0  # Stay in state 9 if it's the last state\n",
    "\n",
    "        # Transitions within dummy states (s in S_a)\n",
    "        for s_a in range(num_states, num_states + num_dummy_states):\n",
    "            normal_state_index = s_a - num_states\n",
    "            # Copy transitions from the corresponding normal state for action 0 within dummy states\n",
    "            P[n, s_a, 0, num_states:num_states + num_dummy_states] = P[n, normal_state_index, 0, 0:num_states]\n",
    "            P[n, s_a, 1, num_states:num_states + num_dummy_states] = P[n, normal_state_index, 0, 0:num_states]\n",
    "\n",
    "    return P"
   ]
  },
  {
   "cell_type": "code",
   "execution_count": 27,
   "metadata": {},
   "outputs": [],
   "source": [
    "def generate_general_transition_matrix_with_dummy_states(num_arms, num_states, num_dummy_states):\n",
    "    # Initialize transition matrices\n",
    "    P = np.zeros((num_arms, num_states + num_dummy_states, 2, num_states + num_dummy_states))\n",
    "\n",
    "    for n in range(num_arms):\n",
    "        # Transitions within non-dummy states (s in S)\n",
    "        for s in range(num_states):\n",
    "            # Action 0: Transition within S\n",
    "            P[n, s, 0, :num_states] = np.random.dirichlet(np.ones(num_states))\n",
    "\n",
    "            # Action 1: Transition to a dummy state\n",
    "            P[n, s, 1, num_states:] = np.random.dirichlet(np.ones(num_dummy_states))\n",
    "\n",
    "        # Transitions within dummy states (s in S_a)\n",
    "        for s_a in range(num_states, num_states + num_dummy_states):\n",
    "            # Copy transitions from the corresponding normal state for action 0\n",
    "            normal_state_index = s_a - num_states\n",
    "            P[n, s_a, 0, num_states:num_states+num_dummy_states] = P[n, normal_state_index, 0, 0:num_states]\n",
    "            P[n, s_a, 1, num_states:num_states+num_dummy_states] = P[n, normal_state_index, 0, 0:num_states]  # Same for action 1\n",
    "\n",
    "    return P"
   ]
  },
  {
   "cell_type": "code",
   "execution_count": 28,
   "metadata": {},
   "outputs": [],
   "source": [
    "def comparison(S, N, group_member_num, K, S_prime, A, T, mdp_type, num_simulations = 2000):\n",
    "    # Define the reward function, from state 0 (reward 10) to state 9 (reward 1)\n",
    "    r = np.array(list(range(S, 0, -1)) + list(range(S, 0, -1)))  # Non-dummy and dummy states have the same rewards\n",
    "    # change here to generate different types of transition matrices\n",
    "    if (mdp_type == 'General'):\n",
    "        P = generate_general_transition_matrix_with_dummy_states(N, S, S)\n",
    "    elif (mdp_type == 'Poisson'):\n",
    "        P = generate_poisson_transition_matrix_with_dummy_states(N, S, S)\n",
    "    else:\n",
    "        print(\"Error\")\n",
    "        return\n",
    "    P_original = P[:, :S, :, :S]+P[:,:S,:,S:]\n",
    "\n",
    "    optimal_reward, fluid_reward, fluid_std, fluid_running_time = fluid_policy(N, T, S, S_prime, A, K, group_member_num, P, r, num_simulations)\n",
    "    random_reward, random_std, random_running_time = random_policy(N, T, S, S_prime, A, K, group_member_num, P, r, num_simulations)\n",
    "    no_pull_reward, no_pull_std, no_pull_running_time =  no_pull_policy(N, T, S, S_prime, A, K, group_member_num, P, r, num_simulations)\n",
    "    Q_difference_reward, Q_difference_std, Q_difference_running_time =  Q_difference_policy(N, T, S, S_prime, A, K, group_member_num, P, r, num_simulations)\n",
    "    finite_whittle_reward, finite_whittle_std, finite_whittle_running_time = finite_whittle_policy(N, T, S, S_prime, A, K, group_member_num, P, r, num_simulations)\n",
    "    infinite_whittle_reward, infinite_whittle_std, infinite_whittle_running_time = infinite_whittle_policy(N, T, S, S_prime, A, K, group_member_num, P, r, num_simulations)\n",
    "    original_whittle_reward, original_whittle_std, original_whittle_running_time = original_whittle_policy(N, T, S, A, K, group_member_num, P_original, r, num_simulations)\n",
    "\n",
    "\n",
    "    experiment_synthetic_result = {\n",
    "        \"Optimal\": (optimal_reward, None),\n",
    "        \"fluid\": (fluid_reward, fluid_std),\n",
    "        \"random\": (random_reward, random_std),\n",
    "        \"finite whittle\": (finite_whittle_reward, finite_whittle_std),\n",
    "        \"inifinite whittle\": (infinite_whittle_reward, infinite_whittle_std),\n",
    "        \"original whittle\": (original_whittle_reward, original_whittle_std),\n",
    "        \"Q_difference\": (Q_difference_reward, Q_difference_std),\n",
    "        \"no-pull\": (no_pull_reward, no_pull_std)\n",
    "    }\n",
    "\n",
    "    experiment_running_time_result = {\n",
    "        'fluid': fluid_running_time,\n",
    "        'random': random_running_time,\n",
    "        'no-pull': no_pull_running_time,\n",
    "        \"Q_difference\": Q_difference_running_time,\n",
    "        \"finite_whittle\": finite_whittle_running_time,\n",
    "        \"original_whittle\": original_whittle_running_time\n",
    "    }\n",
    "\n",
    "\n",
    "    ## If you only collect reward when an arm is pulled,\n",
    "    ## change the lower_bound_method to \"random\"\n",
    "    plot_methods_with_confidence(experiment_synthetic_result, N, T, K, group_member_num, num_simulations, mdp_type, lower_bound_method=\"no-pull\")\n",
    "    return experiment_synthetic_result, experiment_running_time_result"
   ]
  },
  {
   "cell_type": "markdown",
   "metadata": {},
   "source": [
    "## Toy Test"
   ]
  },
  {
   "cell_type": "code",
   "execution_count": 29,
   "metadata": {},
   "outputs": [
    {
     "name": "stderr",
     "output_type": "stream",
     "text": [
      "/opt/anaconda3/lib/python3.12/site-packages/cvxpy/problems/problem.py:158: UserWarning: Objective contains too many subexpressions. Consider vectorizing your CVXPY code to speed up compilation.\n",
      "  warnings.warn(\"Objective contains too many subexpressions. \"\n"
     ]
    },
    {
     "name": "stdout",
     "output_type": "stream",
     "text": [
      "Solver status: optimal\n",
      "Optimal value: 559.7894811077681\n",
      "Average total reward over 100 simulations: 1667.45, stdev is 47.04186293809875, running time is 0.0029523706436157225\n",
      "Number of pulls in dummy states (LP-based policy): 76\n",
      "Average total achieved value over 100 simulations (Random policy): 1630.09, stdev is 45.3115132424777, running time is 0.0033933234214782713\n",
      "Average total achieved value over 100 simulations (No-Pull policy): 1642.96, stdev is 50.156103790812416, average running time is 0.0026561427116394043\n",
      "Q difference (including dummy states):\n",
      "Average total achieved value over 100 simulations (General Q difference index policy): 1673.66, stdev is 50.739624505405, average running time is 0.003486123085021973\n",
      "Finite whittle (including dummy states):\n",
      "Average total achieved value over 100 simulations (General Finite Whittle index policy): 1666.36, stdev is 47.956950392086966, average running time is 0.0029668164253234862\n",
      "Whittle Indices (including dummy states):\n",
      "Average total achieved value over 100 simulations (General Infinite Whittle index policy): 1674.01, stdev is 48.35527088355748, average running time is 0.003247826099395752\n",
      "Original Whittle Indices (including dummy states):\n",
      "Average total achieved value over 100 simulations (General Infinite Whittle index policy): 1675.22, stdev is 43.70760976666594, average running time is 0.0029406833648681643\n"
     ]
    },
    {
     "data": {
      "image/png": "[encoded data removed]",
      "text/plain": [
       "<Figure size 1000x600 with 1 Axes>"
      ]
     },
     "metadata": {},
     "output_type": "display_data"
    }
   ],
   "source": [
    "S = 10\n",
    "N = 10\n",
    "group_member_num = 3\n",
    "K = 3\n",
    "S_prime = S * 2\n",
    "A = 2\n",
    "T = 10\n",
    "num_simulations = 100\n",
    "mdp_type = 'General'\n",
    "test_result, running_time_result = comparison(S, N, group_member_num, K, S_prime, A, T, mdp_type, num_simulations)"
   ]
  },
  {
   "cell_type": "code",
   "execution_count": 30,
   "metadata": {},
   "outputs": [
    {
     "data": {
      "image/png": "[encoded data removed]",
      "text/plain": [
       "<Figure size 640x480 with 1 Axes>"
      ]
     },
     "metadata": {},
     "output_type": "display_data"
    }
   ],
   "source": [
    "plot_running_time(running_time_result, N, T, K, group_member_num, mdp_type)"
   ]
  },
  {
   "cell_type": "markdown",
   "metadata": {},
   "source": [
    "S = 15, N = 10, T = 10, group_size = 10, B = 10, General"
   ]
  },
  {
   "cell_type": "code",
   "execution_count": null,
   "metadata": {},
   "outputs": [],
   "source": [
    "S = 15\n",
    "N = 10\n",
    "T = 10\n",
    "group_member_num = 10\n",
    "K = 10\n",
    "S_prime = S * 2\n",
    "A = 2\n",
    "\n",
    "num_simulations = 2000\n",
    "mdp_type = 'General'\n",
    "test_result, running_time_result = comparison(S, N, group_member_num, K, S_prime, A, T, mdp_type, num_simulations)"
   ]
  },
  {
   "cell_type": "code",
   "execution_count": null,
   "metadata": {},
   "outputs": [],
   "source": [
    "plot_running_time(running_time_result, N, T, K, group_member_num, mdp_type)"
   ]
  },
  {
   "cell_type": "markdown",
   "metadata": {},
   "source": [
    "S = 15, N = 10, T = 10, group_size = 10, B = 10, Poisson"
   ]
  },
  {
   "cell_type": "code",
   "execution_count": null,
   "metadata": {},
   "outputs": [],
   "source": [
    "S = 15\n",
    "N = 10\n",
    "T = 10\n",
    "group_member_num = 10\n",
    "K = 10\n",
    "S_prime = S * 2\n",
    "A = 2\n",
    "\n",
    "num_simulations = 2000\n",
    "mdp_type = 'Poisson'\n",
    "test_result, running_time_result = comparison(S, N, group_member_num, K, S_prime, A, T, mdp_type, num_simulations)"
   ]
  },
  {
   "cell_type": "code",
   "execution_count": null,
   "metadata": {},
   "outputs": [],
   "source": [
    "plot_running_time(running_time_result, N, T, K, group_member_num, mdp_type)"
   ]
  },
  {
   "cell_type": "markdown",
   "metadata": {},
   "source": [
    "S = 10, N = 20, T = 5, group_size = 10, B = 30, General"
   ]
  },
  {
   "cell_type": "code",
   "execution_count": null,
   "metadata": {},
   "outputs": [],
   "source": [
    "S = 10\n",
    "N = 20\n",
    "T = 5\n",
    "group_member_num = 10\n",
    "K = 30\n",
    "S_prime = S * 2\n",
    "A = 2\n",
    "\n",
    "num_simulations = 2000\n",
    "mdp_type = 'General'\n",
    "test_result, running_time_result = comparison(S, N, group_member_num, K, S_prime, A, T, mdp_type, num_simulations)"
   ]
  },
  {
   "cell_type": "code",
   "execution_count": null,
   "metadata": {},
   "outputs": [],
   "source": [
    "plot_running_time(running_time_result, N, T, K, group_member_num, mdp_type)"
   ]
  },
  {
   "cell_type": "markdown",
   "metadata": {},
   "source": [
    "S = 10, N = 20, T = 5, group_size = 10, B = 30, Poisson"
   ]
  },
  {
   "cell_type": "code",
   "execution_count": null,
   "metadata": {},
   "outputs": [],
   "source": [
    "S = 10\n",
    "N = 20\n",
    "T = 5\n",
    "group_member_num = 10\n",
    "K = 30\n",
    "S_prime = S * 2\n",
    "A = 2\n",
    "\n",
    "num_simulations = 2000\n",
    "mdp_type = 'Poisson'\n",
    "test_result, running_time_result = comparison(S, N, group_member_num, K, S_prime, A, T, mdp_type, num_simulations)"
   ]
  },
  {
   "cell_type": "code",
   "execution_count": null,
   "metadata": {},
   "outputs": [],
   "source": [
    "plot_running_time(running_time_result, N, T, K, group_member_num, mdp_type)"
   ]
  },
  {
   "cell_type": "markdown",
   "metadata": {},
   "source": [
    "S = 10, N = 30, T = 10, group_size = 10, B = 10, General"
   ]
  },
  {
   "cell_type": "code",
   "execution_count": null,
   "metadata": {},
   "outputs": [],
   "source": [
    "S = 10\n",
    "N = 30\n",
    "T = 10\n",
    "group_member_num = 10\n",
    "K = 10\n",
    "S_prime = S * 2\n",
    "A = 2\n",
    "\n",
    "num_simulations = 2000\n",
    "mdp_type = 'General'\n",
    "test_result, running_time_result = comparison(S, N, group_member_num, K, S_prime, A, T, mdp_type, num_simulations)"
   ]
  },
  {
   "cell_type": "code",
   "execution_count": null,
   "metadata": {},
   "outputs": [],
   "source": [
    "plot_running_time(running_time_result, N, T, K, group_member_num, mdp_type)"
   ]
  },
  {
   "cell_type": "markdown",
   "metadata": {},
   "source": [
    "S = 10, N = 30, T = 10, group_size = 10, B = 10, Poisson"
   ]
  },
  {
   "cell_type": "code",
   "execution_count": null,
   "metadata": {},
   "outputs": [],
   "source": [
    "S = 10\n",
    "N = 30\n",
    "T = 10\n",
    "group_member_num = 10\n",
    "K = 10\n",
    "S_prime = S * 2\n",
    "A = 2\n",
    "\n",
    "num_simulations = 2000\n",
    "mdp_type = 'Poisson'\n",
    "test_result, running_time_result = comparison(S, N, group_member_num, K, S_prime, A, T, mdp_type, num_simulations)"
   ]
  },
  {
   "cell_type": "code",
   "execution_count": null,
   "metadata": {},
   "outputs": [],
   "source": [
    "plot_running_time(running_time_result, N, T, K, group_member_num, mdp_type)"
   ]
  },
  {
   "cell_type": "markdown",
   "metadata": {},
   "source": [
    "S = 10, N = 20, T = 5, group_size = 50, B = 150, General"
   ]
  },
  {
   "cell_type": "code",
   "execution_count": null,
   "metadata": {},
   "outputs": [],
   "source": [
    "S = 10\n",
    "N = 20\n",
    "T = 5\n",
    "group_member_num = 50\n",
    "K = 150\n",
    "S_prime = S * 2\n",
    "A = 2\n",
    "\n",
    "num_simulations = 2000\n",
    "mdp_type = 'General'\n",
    "test_result, running_time_result = comparison(S, N, group_member_num, K, S_prime, A, T, mdp_type, num_simulations)"
   ]
  },
  {
   "cell_type": "code",
   "execution_count": null,
   "metadata": {},
   "outputs": [],
   "source": [
    "plot_running_time(running_time_result, N, T, K, group_member_num, mdp_type)"
   ]
  },
  {
   "cell_type": "markdown",
   "metadata": {},
   "source": [
    "S = 10, N = 20, T = 5, group_size = 50, B = 150, Poisson"
   ]
  },
  {
   "cell_type": "code",
   "execution_count": null,
   "metadata": {},
   "outputs": [],
   "source": [
    "S = 10\n",
    "N = 20\n",
    "T = 5\n",
    "group_member_num = 50\n",
    "K = 150\n",
    "S_prime = S * 2\n",
    "A = 2\n",
    "\n",
    "num_simulations = 2000\n",
    "mdp_type = 'Poisson'\n",
    "test_result, running_time_result = comparison(S, N, group_member_num, K, S_prime, A, T, mdp_type, num_simulations)"
   ]
  },
  {
   "cell_type": "code",
   "execution_count": null,
   "metadata": {},
   "outputs": [],
   "source": [
    "plot_running_time(running_time_result, N, T, K, group_member_num, mdp_type)"
   ]
  }
 ],
 "metadata": {
  "kernelspec": {
   "display_name": "base",
   "language": "python",
   "name": "python3"
  },
  "language_info": {
   "codemirror_mode": {
    "name": "ipython",
    "version": 3
   },
   "file_extension": ".py",
   "mimetype": "text/x-python",
   "name": "python",
   "nbconvert_exporter": "python",
   "pygments_lexer": "ipython3",
   "version": "3.12.2"
  }
 },
 "nbformat": 4,
 "nbformat_minor": 2
}
